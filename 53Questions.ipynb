{
 "cells": [
  {
   "cell_type": "markdown",
   "metadata": {},
   "source": [
    "# 53 Python Interview Questions and Answers\n",
    "## Python questions for data scientist and software engineers\n",
    "\n",
    "Not so long ago I started a new role as a “Data Scientist” which turned out to be “Python Engineer” in practice.\n",
    "\n",
    "I would have been more prepared if I’d brushed up on Python’s thread lifecycle instead of recommender systems in advance.\n",
    "\n",
    "In that spirit, here are my python interview/job preparation questions and answers. Most data scientists write a lot code so this applies to both scientists and engineers.\n",
    "\n",
    "Whether you’re interviewing candidates, preparing to apply to jobs or just brushing up on Python, I think this list will be invaluable.\n",
    "\n",
    "Questions are unordered. Let’s begin."
   ]
  },
  {
   "cell_type": "markdown",
   "metadata": {},
   "source": [
    "### (1) What is the difference between a list and a tuple?\n",
    "\n",
    "I’ve been asked this question in every python / data science interview I’ve ever had. Know the answer like the back of your hand.\n",
    "\n",
    "- Lists are mutable. They can be modified after creation.\n",
    "- Tuples are immutable. Once a tuple is created it cannot by changed\n",
    "- Lists have order. They are an ordered sequences, typically of the same type of object. Ie: all user names ordered by creation date, [\"Seth\", \"Ema\", \"Eli\"]\n",
    "- Tuples have structure. Different data types may exist at each index. Ie: a database record in memory, (2, \"Ema\", \"2020–04–16\") # id, name, created_at"
   ]
  },
  {
   "cell_type": "markdown",
   "metadata": {},
   "source": [
    "...\n",
    "# A WHOLE BUNCH OF TYPING.\n",
    "..."
   ]
  },
  {
   "cell_type": "markdown",
   "metadata": {},
   "source": [
    "### (53) How is exception handling performed in Python?\n",
    "Python provides 3 words to handle exceptions, *try*, *except* and *finally*.\n",
    "The syntax looks like this.\n"
   ]
  },
  {
   "cell_type": "code",
   "execution_count": 1,
   "metadata": {},
   "outputs": [
    {
     "name": "stdout",
     "output_type": "stream",
     "text": [
      "complete\n",
      "10\n"
     ]
    }
   ],
   "source": [
    "try:\n",
    "    val = 1 + 'A'\n",
    "except:\n",
    "    val = 10\n",
    "finally:\n",
    "    print('complete')\n",
    "    \n",
    "print(val)"
   ]
  },
  {
   "cell_type": "markdown",
   "metadata": {},
   "source": [
    "\n",
    "You're Welcome. Yours Truly, Crazy Uncle Kris."
   ]
  },
  {
   "cell_type": "code",
   "execution_count": null,
   "metadata": {},
   "outputs": [],
   "source": [
    "# what is a difference between a list and a tuple?\n",
    "the literal syntax of a list is shown by square bracket [] whereas tuple is shown by paranthesis ().\n",
    "lists are mutable. they can be modified after creation.\n",
    "tuples are immutable. once a tuple is created, it cant be changed.\n",
    "list have order of the same data type. for ex all user names are ordered by creation date.\n",
    "tuples have structure.different data types can be at each index.for ex (4,'Esha','2016-05-22')id, name,created at\n",
    "lists are better for performing operations like insert, delete\n",
    "tuples are better for accessing the elements.tuples can also be used as key in dictionary.\n",
    "lists consume more memory.\n",
    "tuples consume less memory compared to list.\n"
   ]
  },
  {
   "cell_type": "code",
   "execution_count": 131,
   "metadata": {},
   "outputs": [
    {
     "name": "stdout",
     "output_type": "stream",
     "text": [
      "True\n",
      "True\n",
      "True\n",
      "False\n",
      "4441035472\n",
      "4441035472\n",
      "4443505840\n"
     ]
    }
   ],
   "source": [
    "# what is the difference betn 'is' and '=='\n",
    "#is checks identity and == checks equality.\n",
    "a = [1,2,3]\n",
    "b = a\n",
    "c = [1,2,3]\n",
    "print (a==b)\n",
    "print (a==c) \n",
    "    \n",
    "print (a is b)\n",
    "print (a is c)\n",
    "    \n",
    "print (id(a))\n",
    "print (id(b))\n",
    "print (id(c))\n",
    "#c has a different id then a and b."
   ]
  },
  {
   "cell_type": "code",
   "execution_count": 134,
   "metadata": {},
   "outputs": [
    {
     "data": {
      "text/plain": [
       "[2, 4, 6, 8]"
      ]
     },
     "execution_count": 134,
     "metadata": {},
     "output_type": "execute_result"
    }
   ],
   "source": [
    "#explain the range function?\n",
    "#range generates list of integers and it takes 3 arguments.\n",
    "#range using list comprehension\n",
    "#range(stop)\n",
    "[i for i in range(7)]\n",
    "[0,1,2,3,4,5,6]\n",
    "\n",
    "#range(start,stop)\n",
    "[i for i in range(2,7)]\n",
    "[2,3,4,5,6]\n",
    "\n",
    "#range(start,stop,step)\n",
    "[i for i in range(2,10,2)]\n",
    "[2,4,6,8]\n"
   ]
  },
  {
   "cell_type": "code",
   "execution_count": 137,
   "metadata": {},
   "outputs": [
    {
     "data": {
      "text/plain": [
       "'100m/h'"
      ]
     },
     "execution_count": 137,
     "metadata": {},
     "output_type": "execute_result"
    }
   ],
   "source": [
    "#define a class named car with 2 properties, color and speed.\n",
    "#create an instance and return the speed.\n",
    "class Car:\n",
    "    def __init__(self,color,speed):\n",
    "        self.color = color\n",
    "        self.speed = speed\n",
    "\n",
    "car = Car('red','100m/h')\n",
    "car.speed\n"
   ]
  },
  {
   "cell_type": "code",
   "execution_count": 139,
   "metadata": {},
   "outputs": [
    {
     "ename": "SyntaxError",
     "evalue": "invalid syntax (<ipython-input-139-38a54c8d4da7>, line 2)",
     "output_type": "error",
     "traceback": [
      "\u001b[0;36m  File \u001b[0;32m\"<ipython-input-139-38a54c8d4da7>\"\u001b[0;36m, line \u001b[0;32m2\u001b[0m\n\u001b[0;31m    map returns a list of returned values from  applying a fuction to every element in the sequence.\u001b[0m\n\u001b[0m              ^\u001b[0m\n\u001b[0;31mSyntaxError\u001b[0m\u001b[0;31m:\u001b[0m invalid syntax\n"
     ]
    }
   ],
   "source": [
    "explain how the map function works?\n",
    "map returns a list of returned values from  applying a fuction to every element in the sequence.\n",
    "def add_three(x):\n",
    "    return x + 3\n",
    "lst = [i for i in map(add_three, lst)]\n"
   ]
  },
  {
   "cell_type": "code",
   "execution_count": null,
   "metadata": {},
   "outputs": [],
   "source": [
    "explain how the reduce function works?\n",
    "reducd takes a function and a sequence and iterates over that sequence.\n",
    "on each iteration current element and output from the previous element are passed to the function.\n",
    "in the end a single value is returned.\n",
    "from functools import reduce\n",
    "def add_three(x,y):\n",
    "    return x + y\n",
    "lst = [1,2,3,5]\n",
    "reduce (add_three,lst)\n",
    "--> 11"
   ]
  },
  {
   "cell_type": "code",
   "execution_count": null,
   "metadata": {},
   "outputs": [],
   "source": [
    "Explain how the filter function works?\n",
    "it filters elements in a sequence.\n",
    "def add_three(x,y):\n",
    "    if x % 2 = 0:\n",
    "        return True\n",
    "    else:\n",
    "        return False\n",
    "lst = [1,2,3,4,5,6,7,8]\n",
    "[i for i in filter(add_three,lst)]\n",
    "--> [2,4,6,8]"
   ]
  },
  {
   "cell_type": "code",
   "execution_count": null,
   "metadata": {},
   "outputs": [],
   "source": [
    " Does python call by reference or call by value?\n",
    "immutable objects like strings,numbers and tuples are called by value.\n",
    "mutable objects like lists are called by reference.\n",
    "    "
   ]
  },
  {
   "cell_type": "code",
   "execution_count": 14,
   "metadata": {},
   "outputs": [
    {
     "name": "stdout",
     "output_type": "stream",
     "text": [
      "chris\n",
      "chr\n"
     ]
    }
   ],
   "source": [
    "name = 'chr'\n",
    "def add_chars(s):\n",
    "    s += 'is'\n",
    "    print(s)\n",
    "    \n",
    "add_chars(name)\n",
    " \n",
    "print (name)\n"
   ]
  },
  {
   "cell_type": "code",
   "execution_count": null,
   "metadata": {},
   "outputs": [],
   "source": [
    "mutable objects like lists are called by reference."
   ]
  },
  {
   "cell_type": "code",
   "execution_count": 16,
   "metadata": {},
   "outputs": [
    {
     "name": "stdout",
     "output_type": "stream",
     "text": [
      "[1, 2, 3]\n",
      "[1, 2, 3]\n"
     ]
    }
   ],
   "source": [
    "lst = [1,2]\n",
    "def add_element(seq):\n",
    "    seq.append(3)\n",
    "    print(seq)\n",
    "\n",
    "add_element(lst)\n",
    "\n",
    "print(lst)\n"
   ]
  },
  {
   "cell_type": "code",
   "execution_count": null,
   "metadata": {},
   "outputs": [],
   "source": [
    "how to reverse a list?"
   ]
  },
  {
   "cell_type": "code",
   "execution_count": 18,
   "metadata": {},
   "outputs": [
    {
     "name": "stdout",
     "output_type": "stream",
     "text": [
      "['c', 'b', 'a']\n"
     ]
    }
   ],
   "source": [
    "lst = ['a','b','c']\n",
    "lst.reverse()\n",
    "print(lst)"
   ]
  },
  {
   "cell_type": "code",
   "execution_count": null,
   "metadata": {},
   "outputs": [],
   "source": [
    "how does string multiplication work?"
   ]
  },
  {
   "cell_type": "code",
   "execution_count": 20,
   "metadata": {},
   "outputs": [
    {
     "data": {
      "text/plain": [
       "'catcatcat'"
      ]
     },
     "execution_count": 20,
     "metadata": {},
     "output_type": "execute_result"
    }
   ],
   "source": [
    "'cat' * 3"
   ]
  },
  {
   "cell_type": "code",
   "execution_count": null,
   "metadata": {},
   "outputs": [],
   "source": [
    "how does list multiplication work?"
   ]
  },
  {
   "cell_type": "code",
   "execution_count": 23,
   "metadata": {},
   "outputs": [
    {
     "data": {
      "text/plain": [
       "[1, 2, 3, 1, 2, 3]"
      ]
     },
     "execution_count": 23,
     "metadata": {},
     "output_type": "execute_result"
    }
   ],
   "source": [
    " [1,2,3] * 2"
   ]
  },
  {
   "cell_type": "code",
   "execution_count": null,
   "metadata": {},
   "outputs": [],
   "source": [
    "what does \"self\" refer to in a class?\n",
    "\n",
    "self represents the instance of the class.\n",
    "by using the self keyword we can access the attributes and methods of the class.\n",
    "passing self to __init__() gives us the ability to set the color of an instance on initialization.\n"
   ]
  },
  {
   "cell_type": "code",
   "execution_count": 56,
   "metadata": {},
   "outputs": [
    {
     "name": "stdout",
     "output_type": "stream",
     "text": [
      "yellow\n",
      "Green\n",
      "violet\n",
      "Green\n",
      "violet\n",
      "Green\n"
     ]
    }
   ],
   "source": [
    "class Shirt:\n",
    "    \n",
    "    def __init__(self,color):\n",
    "        self.color = color\n",
    "    \n",
    "    def prt(self):\n",
    "        print (self.color)\n",
    "    \n",
    "    def change_color(self):\n",
    "        self.color = 'violet'\n",
    "    @classmethod\n",
    "    def change_color_all(cls):\n",
    "        cls.color = 'rainbow'\n",
    "        \n",
    "s = Shirt('yellow')\n",
    "g = Shirt('Green')\n",
    "s.prt()\n",
    "g.prt()\n",
    "s.change_color()\n",
    "s.prt()\n",
    "g.prt()\n",
    "Shirt.change_color_all()\n",
    "s.prt()\n",
    "g.prt()"
   ]
  },
  {
   "cell_type": "code",
   "execution_count": null,
   "metadata": {},
   "outputs": [],
   "source": [
    "how can you concantenate lists in python?\n",
    "by adding them\n",
    "a = [1,2,3]\n",
    "b = [4,5]\n",
    "a + b \n",
    "-->[1,2,3,4,5]"
   ]
  },
  {
   "cell_type": "code",
   "execution_count": null,
   "metadata": {},
   "outputs": [],
   "source": [
    "what is a difference betn shallow and a deep copy?\n",
    "a shallow copy crates a new object, but fills it with reference to the original.\n",
    "so adding a new object to the original lst will not propage to the new list, but modifying will."
   ]
  },
  {
   "cell_type": "code",
   "execution_count": 43,
   "metadata": {},
   "outputs": [
    {
     "name": "stdout",
     "output_type": "stream",
     "text": [
      "[[1], [2], [3]]\n",
      "[[1], [2], [3], [4]]\n",
      "[[1], [2], [3]]\n",
      "[[['x']], [2], [3], [4]]\n",
      "[[['x']], [2], [3]]\n"
     ]
    }
   ],
   "source": [
    "lst1 = [[1],[2],[3]]\n",
    "lst2 = list(lst1)\n",
    "print (lst2)\n",
    "lst1.append([4])\n",
    "print(lst1)\n",
    "print(lst2)\n",
    "lst1[0][0] = ['x']\n",
    "print(lst1)\n",
    "print (lst2)"
   ]
  },
  {
   "cell_type": "code",
   "execution_count": null,
   "metadata": {},
   "outputs": [],
   "source": [
    "copy.deep copy()\n",
    "the two objects are totally independent and changes to either have no affect on other."
   ]
  },
  {
   "cell_type": "code",
   "execution_count": 44,
   "metadata": {},
   "outputs": [
    {
     "name": "stdout",
     "output_type": "stream",
     "text": [
      "[[1], [2], [3]]\n",
      "[[1], [2], [3], [4]]\n",
      "[[1], [2], [3]]\n",
      "[[1], [2], [3]]\n"
     ]
    }
   ],
   "source": [
    "import copy\n",
    "lst1 = [[1],[2],[3]]\n",
    "lst2 = copy.deepcopy(lst1)\n",
    "print(lst2)\n",
    "lst1.append([4])\n",
    "print(lst1)\n",
    "print(lst2)\n",
    "lst1[0][0] = ['x']\n",
    "print(lst2)"
   ]
  },
  {
   "cell_type": "code",
   "execution_count": null,
   "metadata": {},
   "outputs": [],
   "source": [
    "what is the difference betn lists and arrays?\n",
    "\n",
    "lists exits in python's standard library, arrays are defined by numpy.\n",
    "lists can be populated with different types of data at each index. arrays require homogeneous elements.\n",
    "arithmetic on lists adds or remove elements from the list but in array it functions as an linear algebra.\n",
    "arrays also use less memory and have more functionalities than lists.\n"
   ]
  },
  {
   "cell_type": "code",
   "execution_count": null,
   "metadata": {},
   "outputs": [],
   "source": [
    "what is the difference betn instance,class and static methods/\n",
    "instance - accepts self parameter and relate to a specific instance of the class.\n",
    "class - accepts class parameter and can modify the class itself\n",
    "static - not related to a specific instance and doesnt modify class or instance properties."
   ]
  },
  {
   "cell_type": "code",
   "execution_count": 60,
   "metadata": {},
   "outputs": [],
   "source": [
    "class Coffeeshop:\n",
    "    speciality = 'espresso'\n",
    "    def __init__(self,coffee_price):\n",
    "        self.coffee_price = coffee_price\n",
    "        \n",
    "    def making_coffee(self):\n",
    "        #print(f'making{self.speciality} for ${self.coffee_price}')\n",
    "        print('making ',self.speciality, ' for ', self.coffee_price)\n",
    "        \n",
    "    @classmethod\n",
    "    def change_speciality(cls,speciality):\n",
    "        cls.speciality = speciality\n",
    "        print('Speciality changed to ', speciality )\n",
    "        \n",
    "    @staticmethod\n",
    "    def check_weather():\n",
    "        print('it is sunny')\n",
    "        "
   ]
  },
  {
   "cell_type": "code",
   "execution_count": null,
   "metadata": {},
   "outputs": [],
   "source": [
    "what is the difference betn func and func()\n",
    "all functions are also objects in python."
   ]
  },
  {
   "cell_type": "code",
   "execution_count": 62,
   "metadata": {},
   "outputs": [
    {
     "data": {
      "text/plain": [
       "<function __main__.func()>"
      ]
     },
     "execution_count": 62,
     "metadata": {},
     "output_type": "execute_result"
    }
   ],
   "source": [
    "def func():\n",
    "    print('i am a function')\n",
    "    \n",
    "func"
   ]
  },
  {
   "cell_type": "code",
   "execution_count": 63,
   "metadata": {},
   "outputs": [
    {
     "name": "stdout",
     "output_type": "stream",
     "text": [
      "i am a function\n"
     ]
    }
   ],
   "source": [
    "def func():\n",
    "    print('i am a function')\n",
    "    \n",
    "func()    "
   ]
  },
  {
   "cell_type": "code",
   "execution_count": null,
   "metadata": {},
   "outputs": [],
   "source": [
    "how to concatenate two arrays?\n"
   ]
  },
  {
   "cell_type": "code",
   "execution_count": 64,
   "metadata": {},
   "outputs": [
    {
     "data": {
      "text/plain": [
       "array([1, 2, 3, 4, 5, 6])"
      ]
     },
     "execution_count": 64,
     "metadata": {},
     "output_type": "execute_result"
    }
   ],
   "source": [
    "import numpy as np\n",
    "a = np.array([1,2,3])\n",
    "b = np.array([4,5,6])\n",
    "np.concatenate((a,b))"
   ]
  },
  {
   "cell_type": "code",
   "execution_count": null,
   "metadata": {},
   "outputs": [],
   "source": [
    "what do you like about python?\n",
    "The benefits of pythons are that it is simple and easy, portable, extensible, build-in data structure \n",
    "and it is an open source.\n",
    "The time consumed is less on code debugging compared to other languages like C, C++ or Java. As a result, \n",
    "developers can spend more time on their algorithms.\n",
    "Ease Of Libraries: Python comes with a huge number of inbuilt libraries for machine learning and \n",
    "artificial intelligence.\n",
    "\n",
    "Python is a free, flexible and powerful open-source language\n",
    "Python cuts development time in half with its simple and easy to read syntax\n",
    "With Python, you can perform data manipulation, analysis, and visualization\n",
    "Python provides powerful libraries for Machine learning applications and other scientific computations\n",
    "\n"
   ]
  },
  {
   "cell_type": "code",
   "execution_count": null,
   "metadata": {},
   "outputs": [],
   "source": [
    "Pandas  It is used for data manipulation and analysis.provide us with many Series and DataFrames.\n",
    "It allows you to easily organize, explore, represent, and manipulate data.\n",
    "Pandas can support JSON, Excel, CSV, HDF5, and many other formats.\n",
    "Pandas make sure that the entire process of manipulating data will be easier. \n",
    "Support for operations such as Re-indexing, Iteration, Sorting, Aggregations, Concatenations and \n",
    "Visualizations are among the feature highlights of Pandas.\n",
    "matplotlib, seaborn, scikit (data visualisation)\n",
    "\n",
    "pandas makes manipulating and visualizing data a breeze."
   ]
  },
  {
   "cell_type": "code",
   "execution_count": null,
   "metadata": {},
   "outputs": [],
   "source": [
    "Numpy stands for ‘Numerical Python’. \n",
    "It is used for scientific computing, which contains a powerful n-dimensional array object.\n",
    "Array interface is the best and the most important feature of numpy. \n",
    "Numpy is very interactive and easy to use. Makes complex mathematical implementations very simple.\n",
    "Matplotlib is a powerful library for visualization in Python.\n",
    "It can be used in Python scripts, shell, web application servers, and other GUI toolkits. \n",
    "You can use different types of plots and how multiple plots work using Matplotlib."
   ]
  },
  {
   "cell_type": "code",
   "execution_count": null,
   "metadata": {},
   "outputs": [],
   "source": [
    "name mutable and immutable objects?\n",
    "immutable means state can not be modified after creation\n",
    "string,tuple\n",
    "\n",
    "mutable means state can be changed or modify after creation\n",
    "lists,dictionary,set"
   ]
  },
  {
   "cell_type": "code",
   "execution_count": null,
   "metadata": {},
   "outputs": [],
   "source": [
    "how would you round a number to 3 decimal places\n",
    "a = 7.89789\n",
    "round(a,3)"
   ]
  },
  {
   "cell_type": "code",
   "execution_count": 65,
   "metadata": {},
   "outputs": [
    {
     "data": {
      "text/plain": [
       "7.898"
      ]
     },
     "execution_count": 65,
     "metadata": {},
     "output_type": "execute_result"
    }
   ],
   "source": [
    "a = 7.89789\n",
    "round(a,3)"
   ]
  },
  {
   "cell_type": "code",
   "execution_count": null,
   "metadata": {},
   "outputs": [],
   "source": [
    "how do you slice a list?\n",
    "slicing notation takes 3 arguments list[start:stop:step]"
   ]
  },
  {
   "cell_type": "code",
   "execution_count": 70,
   "metadata": {},
   "outputs": [
    {
     "name": "stdout",
     "output_type": "stream",
     "text": [
      "[0, 1, 2]\n",
      "[7, 8, 9]\n",
      "[2, 3, 4, 5, 6, 7, 8]\n",
      "[2, 4, 6]\n"
     ]
    }
   ],
   "source": [
    "a = [0,1,2,3,4,5,6,7,8,9]\n",
    "print (a[:3])\n",
    "\n",
    "print (a[7:])\n",
    "\n",
    "print (a[2:9])\n",
    "\n",
    "print (a[2:8:2])"
   ]
  },
  {
   "cell_type": "code",
   "execution_count": null,
   "metadata": {},
   "outputs": [],
   "source": [
    "what is pickling?\n",
    "Pickling is a method to serialize and deserialize objects in python."
   ]
  },
  {
   "cell_type": "code",
   "execution_count": 73,
   "metadata": {},
   "outputs": [
    {
     "name": "stdout",
     "output_type": "stream",
     "text": [
      "[{'id': 1, 'name': 'john'}, {'id': 2, 'name': 'nate'}]\n"
     ]
    }
   ],
   "source": [
    "import pickle\n",
    "obj = [\n",
    "    {'id':1,'name':'john'},\n",
    "    {'id':2,'name':'nate'}\n",
    "]\n",
    "with open('file.p', 'wb')as f:\n",
    "    pickle.dump(obj, f)\n",
    "    \n",
    "with open('file.p', 'rb')as f:\n",
    "    loaded_obj = pickle.load(f)\n",
    "\n",
    "print(loaded_obj)\n",
    "   "
   ]
  },
  {
   "cell_type": "code",
   "execution_count": null,
   "metadata": {},
   "outputs": [],
   "source": [
    "what is the difference between dictionaries and json?\n",
    "dict is a python data type a collection of indexed but unordered keys and values.\n",
    "json is a string which follows a specified format and used for transferring data."
   ]
  },
  {
   "cell_type": "code",
   "execution_count": null,
   "metadata": {},
   "outputs": [],
   "source": [
    "what ORMs object relational mapping have you used?\n",
    "object relational mapping ORMs map data models to database tables and simplify database transactions.\n",
    "SqlAlchemy"
   ]
  },
  {
   "cell_type": "code",
   "execution_count": null,
   "metadata": {},
   "outputs": [],
   "source": [
    "how do any() and all() work?\n",
    "any takes an sequence and returns true if any element in the sequence is true.\n",
    "all returns true if all the elements in the sequence are true."
   ]
  },
  {
   "cell_type": "code",
   "execution_count": 76,
   "metadata": {},
   "outputs": [
    {
     "name": "stdout",
     "output_type": "stream",
     "text": [
      "False\n",
      "True\n",
      "True\n",
      "False\n",
      "False\n",
      "True\n"
     ]
    }
   ],
   "source": [
    "a = [False,False,False]\n",
    "b = [True,False,False]\n",
    "c = [True,True,True]\n",
    "print (any(a))\n",
    "print (any(b))\n",
    "print (any(c))\n",
    "print (all(a))\n",
    "print (all(b))\n",
    "print (all(c))"
   ]
  },
  {
   "cell_type": "code",
   "execution_count": null,
   "metadata": {},
   "outputs": [],
   "source": [
    "are dictionaries or lists faster for lookups?\n",
    "looking up for a value in a list takes o(n)times because the whole list need to be iterated until the value is found.\n",
    "looking up a key in a dict takes o(1)times because its a hash table.\n",
    "so dict are recommended for a speed."
   ]
  },
  {
   "cell_type": "code",
   "execution_count": null,
   "metadata": {},
   "outputs": [],
   "source": [
    "what is a difference betn module and a package?\n",
    "a module is a file or collectn of files which can be imported together.\n",
    "\n",
    "import sklearn\n",
    "\n",
    "a package is a directory of modules.\n",
    "\n",
    "from sklearn import cross_validation\n"
   ]
  },
  {
   "cell_type": "code",
   "execution_count": null,
   "metadata": {},
   "outputs": [],
   "source": [
    "how to increament and decreament in python?\n",
    "value = 8\n",
    "value += 1\n",
    "print value"
   ]
  },
  {
   "cell_type": "code",
   "execution_count": 80,
   "metadata": {},
   "outputs": [
    {
     "name": "stdout",
     "output_type": "stream",
     "text": [
      "9\n",
      "7\n"
     ]
    }
   ],
   "source": [
    "value = 8\n",
    "value += 1\n",
    "print (value)\n",
    "value = 8\n",
    "value -= 1\n",
    "print (value)"
   ]
  },
  {
   "cell_type": "code",
   "execution_count": null,
   "metadata": {},
   "outputs": [],
   "source": [
    "how to return a binary of an integer?"
   ]
  },
  {
   "cell_type": "code",
   "execution_count": 81,
   "metadata": {},
   "outputs": [
    {
     "data": {
      "text/plain": [
       "'0b101'"
      ]
     },
     "execution_count": 81,
     "metadata": {},
     "output_type": "execute_result"
    }
   ],
   "source": [
    "bin(5)"
   ]
  },
  {
   "cell_type": "code",
   "execution_count": null,
   "metadata": {},
   "outputs": [],
   "source": [
    "how to remove duplicates elements from a list?\n",
    "converting the list into a set and then converting back to a list."
   ]
  },
  {
   "cell_type": "code",
   "execution_count": 82,
   "metadata": {},
   "outputs": [
    {
     "name": "stdout",
     "output_type": "stream",
     "text": [
      "[2, 3, 4]\n"
     ]
    }
   ],
   "source": [
    "a = [2,2,2,3,4]\n",
    "a = list(set(a))\n",
    "print(a)"
   ]
  },
  {
   "cell_type": "code",
   "execution_count": 85,
   "metadata": {},
   "outputs": [
    {
     "name": "stdout",
     "output_type": "stream",
     "text": [
      "[1, 2, 3, 5]\n",
      "[1, 2, 3, 4, 5]\n"
     ]
    }
   ],
   "source": [
    "#what is the difference betn append and extend?\n",
    "#append adds value to a list while extend adds values in another list to a list\n",
    "a = [1,2,3]\n",
    "a.append(5)\n",
    "print (a)\n",
    "\n",
    "b=[1,2,3]\n",
    "b.extend([4,5])\n",
    "print (b)"
   ]
  },
  {
   "cell_type": "code",
   "execution_count": 86,
   "metadata": {},
   "outputs": [
    {
     "data": {
      "text/plain": [
       "2"
      ]
     },
     "execution_count": 86,
     "metadata": {},
     "output_type": "execute_result"
    }
   ],
   "source": [
    "#how to take the absolute value of an integer?\n",
    "abs(-2)"
   ]
  },
  {
   "cell_type": "code",
   "execution_count": 88,
   "metadata": {},
   "outputs": [
    {
     "data": {
      "text/plain": [
       "[('a', 1), ('b', 2), ('c', 3)]"
      ]
     },
     "execution_count": 88,
     "metadata": {},
     "output_type": "execute_result"
    }
   ],
   "source": [
    "#how to combine two lists into a list of tuples?\n",
    "# using zip function\n",
    "a = ['a','b','c']\n",
    "b = [1,2,3]\n",
    "[(x,y) for x,y in zip (a,b)]"
   ]
  },
  {
   "cell_type": "code",
   "execution_count": 89,
   "metadata": {},
   "outputs": [
    {
     "data": {
      "text/plain": [
       "[('a', 1), ('b', 2), ('c', 3), ('d', 4)]"
      ]
     },
     "execution_count": 89,
     "metadata": {},
     "output_type": "execute_result"
    }
   ],
   "source": [
    "#how can you sort a dict by key, alphabetically?\n",
    "#cant sort the dict because they dont have order but u can return a sorted list of tuples which has the keys and values \n",
    "#that are in the dict.\n",
    " \n",
    "d = {'c':3, 'd':4, 'b':2, 'a':1}\n",
    "sorted(d.items())"
   ]
  },
  {
   "cell_type": "code",
   "execution_count": null,
   "metadata": {},
   "outputs": [],
   "source": [
    "how does a class inherit from another class?\n",
    "Inheritance allows us to define a class that inherits all the methods and properties from another class.\n",
    "Parent class is the class being inherited from, also called base class.\n",
    "Child class is the class that inherits from another class, also called derived class."
   ]
  },
  {
   "cell_type": "code",
   "execution_count": 128,
   "metadata": {},
   "outputs": [
    {
     "ename": "NameError",
     "evalue": "name 'Develpoer' is not defined",
     "output_type": "error",
     "traceback": [
      "\u001b[0;31m---------------------------------------------------------------------------\u001b[0m",
      "\u001b[0;31mNameError\u001b[0m                                 Traceback (most recent call last)",
      "\u001b[0;32m<ipython-input-128-97cd8973f020>\u001b[0m in \u001b[0;36m<module>\u001b[0;34m\u001b[0m\n\u001b[1;32m     10\u001b[0m         \u001b[0mself\u001b[0m\u001b[0;34m.\u001b[0m\u001b[0mskill\u001b[0m \u001b[0;34m=\u001b[0m \u001b[0mskill\u001b[0m\u001b[0;34m\u001b[0m\u001b[0;34m\u001b[0m\u001b[0m\n\u001b[1;32m     11\u001b[0m \u001b[0;34m\u001b[0m\u001b[0m\n\u001b[0;32m---> 12\u001b[0;31m \u001b[0mdev1\u001b[0m \u001b[0;34m=\u001b[0m \u001b[0mDevelpoer\u001b[0m\u001b[0;34m(\u001b[0m\u001b[0mfname\u001b[0m\u001b[0;34m,\u001b[0m\u001b[0mlname\u001b[0m\u001b[0;34m,\u001b[0m\u001b[0mpay\u001b[0m\u001b[0;34m,\u001b[0m\u001b[0mpython\u001b[0m\u001b[0;34m)\u001b[0m\u001b[0;34m\u001b[0m\u001b[0;34m\u001b[0m\u001b[0m\n\u001b[0m\u001b[1;32m     13\u001b[0m \u001b[0mprint\u001b[0m\u001b[0;34m(\u001b[0m\u001b[0mdev1\u001b[0m\u001b[0;34m.\u001b[0m\u001b[0mfname\u001b[0m\u001b[0;34m)\u001b[0m\u001b[0;34m\u001b[0m\u001b[0;34m\u001b[0m\u001b[0m\n\u001b[1;32m     14\u001b[0m \u001b[0mprint\u001b[0m\u001b[0;34m(\u001b[0m\u001b[0mdev1\u001b[0m\u001b[0;34m.\u001b[0m\u001b[0mskill\u001b[0m\u001b[0;34m)\u001b[0m\u001b[0;34m\u001b[0m\u001b[0;34m\u001b[0m\u001b[0m\n",
      "\u001b[0;31mNameError\u001b[0m: name 'Develpoer' is not defined"
     ]
    }
   ],
   "source": [
    "class Employee:\n",
    "    def __init__(self,fname,lname,pay):\n",
    "        self.fname = fname\n",
    "        self.lname = lname\n",
    "        self.pay = pay\n",
    "    \n",
    "class Developer(Employee):\n",
    "    def __init__(self,fname,lname,pay,skill):\n",
    "        super.__init__(self,fname,lname,pay)\n",
    "        self.skill = skill\n",
    "        \n",
    "dev1 = Develpoer(fname,lname,pay,python)\n",
    "print(dev1.fname)\n",
    "print(dev1.skill)"
   ]
  },
  {
   "cell_type": "code",
   "execution_count": null,
   "metadata": {},
   "outputs": [],
   "source": [
    "how can you remove whitespace from a string?\n",
    "u can split the string on a whitespace and then rejoin without spaces."
   ]
  },
  {
   "cell_type": "code",
   "execution_count": 90,
   "metadata": {},
   "outputs": [
    {
     "data": {
      "text/plain": [
       "'astringwithawhitespace'"
      ]
     },
     "execution_count": 90,
     "metadata": {},
     "output_type": "execute_result"
    }
   ],
   "source": [
    "s = 'a string     with a white space'\n",
    "''.join(s.split())"
   ]
  },
  {
   "cell_type": "code",
   "execution_count": null,
   "metadata": {},
   "outputs": [],
   "source": [
    "why would you use enumerate() when iterating on a sequence?\n",
    "enumerate allows tracking index when iterating over a sequence."
   ]
  },
  {
   "cell_type": "code",
   "execution_count": 97,
   "metadata": {},
   "outputs": [
    {
     "name": "stdout",
     "output_type": "stream",
     "text": [
      "0 a\n",
      "1 b\n",
      "2 c\n",
      "3 d\n"
     ]
    }
   ],
   "source": [
    "lst = ['a','b','c','d']\n",
    "for idx,value in enumerate(lst):\n",
    " print(idx,value)"
   ]
  },
  {
   "cell_type": "code",
   "execution_count": null,
   "metadata": {},
   "outputs": [],
   "source": [
    "what is the difference betn pass,continue and break?"
   ]
  },
  {
   "cell_type": "code",
   "execution_count": 100,
   "metadata": {},
   "outputs": [
    {
     "name": "stdout",
     "output_type": "stream",
     "text": [
      "1\n",
      "2\n",
      "3\n",
      "4\n",
      "5\n"
     ]
    }
   ],
   "source": [
    "a = [1,2,3,4,5]\n",
    "for i in a:\n",
    "    if i > 3:\n",
    "        pass\n",
    "    print(i)"
   ]
  },
  {
   "cell_type": "code",
   "execution_count": 101,
   "metadata": {},
   "outputs": [
    {
     "name": "stdout",
     "output_type": "stream",
     "text": [
      "3\n",
      "4\n",
      "5\n"
     ]
    }
   ],
   "source": [
    "a = [1,2,3,4,5]\n",
    "for i in a:\n",
    "    if i < 3:\n",
    "        continue\n",
    "    print(i)"
   ]
  },
  {
   "cell_type": "code",
   "execution_count": 102,
   "metadata": {},
   "outputs": [
    {
     "name": "stdout",
     "output_type": "stream",
     "text": [
      "1\n",
      "2\n"
     ]
    }
   ],
   "source": [
    "a = [1,2,3,4,5]\n",
    "for i in a:\n",
    "    if i == 3:\n",
    "        break\n",
    "    print(i)"
   ]
  },
  {
   "cell_type": "code",
   "execution_count": 104,
   "metadata": {},
   "outputs": [
    {
     "name": "stdout",
     "output_type": "stream",
     "text": [
      "[2, 3, 4, 5]\n"
     ]
    }
   ],
   "source": [
    "#convert the following for loop into list comprehension.\n",
    "a = [1,2,3,4]\n",
    "a1 = []\n",
    "for i in a:\n",
    "    a1.append(i+1)\n",
    "print(a1)"
   ]
  },
  {
   "cell_type": "code",
   "execution_count": 105,
   "metadata": {},
   "outputs": [
    {
     "name": "stdout",
     "output_type": "stream",
     "text": [
      "[2, 3, 4, 5]\n"
     ]
    }
   ],
   "source": [
    "a = [1,2,3,4]\n",
    "a2 = [(i+1) for i in a]\n",
    "print (a2)"
   ]
  },
  {
   "cell_type": "code",
   "execution_count": null,
   "metadata": {},
   "outputs": [],
   "source": [
    "give an ex of an ternary operator.\n",
    "ternary operator is one line if/else statement\n",
    "a if condition else b"
   ]
  },
  {
   "cell_type": "code",
   "execution_count": 107,
   "metadata": {},
   "outputs": [
    {
     "data": {
      "text/plain": [
       "'greater'"
      ]
     },
     "execution_count": 107,
     "metadata": {},
     "output_type": "execute_result"
    }
   ],
   "source": [
    "x = 5\n",
    "y = 10\n",
    "'greater' if x > 6 else 'less'\n",
    "'greater' if y > 6 else 'less'"
   ]
  },
  {
   "cell_type": "code",
   "execution_count": null,
   "metadata": {},
   "outputs": [],
   "source": [
    "check if string only contain numbers.\n",
    "isnumeric()"
   ]
  },
  {
   "cell_type": "code",
   "execution_count": 109,
   "metadata": {},
   "outputs": [
    {
     "data": {
      "text/plain": [
       "False"
      ]
     },
     "execution_count": 109,
     "metadata": {},
     "output_type": "execute_result"
    }
   ],
   "source": [
    "'123a'.isnumeric()"
   ]
  },
  {
   "cell_type": "code",
   "execution_count": 110,
   "metadata": {},
   "outputs": [
    {
     "data": {
      "text/plain": [
       "True"
      ]
     },
     "execution_count": 110,
     "metadata": {},
     "output_type": "execute_result"
    }
   ],
   "source": [
    "'123'.isnumeric()"
   ]
  },
  {
   "cell_type": "code",
   "execution_count": null,
   "metadata": {},
   "outputs": [],
   "source": [
    "check if string only contain letters.\n",
    "isalpha()"
   ]
  },
  {
   "cell_type": "code",
   "execution_count": 111,
   "metadata": {},
   "outputs": [
    {
     "data": {
      "text/plain": [
       "False"
      ]
     },
     "execution_count": 111,
     "metadata": {},
     "output_type": "execute_result"
    }
   ],
   "source": [
    "'123a'.isalpha()"
   ]
  },
  {
   "cell_type": "code",
   "execution_count": 112,
   "metadata": {},
   "outputs": [
    {
     "data": {
      "text/plain": [
       "True"
      ]
     },
     "execution_count": 112,
     "metadata": {},
     "output_type": "execute_result"
    }
   ],
   "source": [
    "'abc'.isalpha()"
   ]
  },
  {
   "cell_type": "code",
   "execution_count": null,
   "metadata": {},
   "outputs": [],
   "source": [
    "check if string only contain numbers and letters.\n",
    "isalnum()"
   ]
  },
  {
   "cell_type": "code",
   "execution_count": 113,
   "metadata": {},
   "outputs": [
    {
     "data": {
      "text/plain": [
       "False"
      ]
     },
     "execution_count": 113,
     "metadata": {},
     "output_type": "execute_result"
    }
   ],
   "source": [
    "'123a...'.isalnum()"
   ]
  },
  {
   "cell_type": "code",
   "execution_count": 114,
   "metadata": {},
   "outputs": [
    {
     "data": {
      "text/plain": [
       "True"
      ]
     },
     "execution_count": 114,
     "metadata": {},
     "output_type": "execute_result"
    }
   ],
   "source": [
    "'123a'.isalnum()"
   ]
  },
  {
   "cell_type": "code",
   "execution_count": null,
   "metadata": {},
   "outputs": [],
   "source": [
    "return a list of keys from a dict.\n",
    "by passing a dict to a list() constructor"
   ]
  },
  {
   "cell_type": "code",
   "execution_count": 115,
   "metadata": {},
   "outputs": [
    {
     "data": {
      "text/plain": [
       "['id', 'name', 'age']"
      ]
     },
     "execution_count": 115,
     "metadata": {},
     "output_type": "execute_result"
    }
   ],
   "source": [
    "d = {'id':22, 'name':'john', 'age':33,}\n",
    "list(d)"
   ]
  },
  {
   "cell_type": "code",
   "execution_count": null,
   "metadata": {},
   "outputs": [],
   "source": [
    "how do u use uppercase and lowercase a string?"
   ]
  },
  {
   "cell_type": "code",
   "execution_count": 116,
   "metadata": {},
   "outputs": [
    {
     "data": {
      "text/plain": [
       "'JOHN'"
      ]
     },
     "execution_count": 116,
     "metadata": {},
     "output_type": "execute_result"
    }
   ],
   "source": [
    "'john'.upper()"
   ]
  },
  {
   "cell_type": "code",
   "execution_count": 117,
   "metadata": {},
   "outputs": [
    {
     "data": {
      "text/plain": [
       "'nyc'"
      ]
     },
     "execution_count": 117,
     "metadata": {},
     "output_type": "execute_result"
    }
   ],
   "source": [
    "'NYC'.lower()"
   ]
  },
  {
   "cell_type": "code",
   "execution_count": null,
   "metadata": {},
   "outputs": [],
   "source": [
    "what is the difference betn remove,delete and pop?\n",
    "remove removes element by its matching value\n",
    "delete removes element by its index\n",
    "pop removes element by its index and then returns that element."
   ]
  },
  {
   "cell_type": "code",
   "execution_count": 121,
   "metadata": {},
   "outputs": [
    {
     "name": "stdout",
     "output_type": "stream",
     "text": [
      "['a', 'c']\n"
     ]
    }
   ],
   "source": [
    "lst = ['a','b','c']\n",
    "lst.remove('b')\n",
    "print(lst)"
   ]
  },
  {
   "cell_type": "code",
   "execution_count": 122,
   "metadata": {},
   "outputs": [
    {
     "name": "stdout",
     "output_type": "stream",
     "text": [
      "['a', 'c']\n"
     ]
    }
   ],
   "source": [
    "lst = ['a','b','c']\n",
    "del lst[1]\n",
    "print(lst)"
   ]
  },
  {
   "cell_type": "code",
   "execution_count": 126,
   "metadata": {},
   "outputs": [
    {
     "data": {
      "text/plain": [
       "'b'"
      ]
     },
     "execution_count": 126,
     "metadata": {},
     "output_type": "execute_result"
    }
   ],
   "source": [
    "lst = ['a','b','c']\n",
    "lst.pop(1)\n"
   ]
  },
  {
   "cell_type": "code",
   "execution_count": null,
   "metadata": {},
   "outputs": [],
   "source": [
    "example of a dict with list comprehension"
   ]
  },
  {
   "cell_type": "code",
   "execution_count": 127,
   "metadata": {},
   "outputs": [
    {
     "name": "stdout",
     "output_type": "stream",
     "text": [
      "{'a': 1, 'b': 2, 'c': 3}\n"
     ]
    }
   ],
   "source": [
    "lst1 = ['a','b','c']\n",
    "lst2 = [1,2,3]\n",
    "d = {letter:number for letter, number in zip(lst1,lst2)}\n",
    "print(d)"
   ]
  },
  {
   "cell_type": "code",
   "execution_count": null,
   "metadata": {},
   "outputs": [],
   "source": []
  }
 ],
 "metadata": {
  "kernelspec": {
   "display_name": "Python 3",
   "language": "python",
   "name": "python3"
  },
  "language_info": {
   "codemirror_mode": {
    "name": "ipython",
    "version": 3
   },
   "file_extension": ".py",
   "mimetype": "text/x-python",
   "name": "python",
   "nbconvert_exporter": "python",
   "pygments_lexer": "ipython3",
   "version": "3.7.4"
  }
 },
 "nbformat": 4,
 "nbformat_minor": 4
}
